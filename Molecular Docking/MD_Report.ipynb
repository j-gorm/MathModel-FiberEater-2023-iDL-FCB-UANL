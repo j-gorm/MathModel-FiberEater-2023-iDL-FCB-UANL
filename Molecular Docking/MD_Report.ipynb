{
 "cells": [
  {
   "cell_type": "markdown",
   "metadata": {},
   "source": [
    "<h1 align='center'><strong>iGEM FCB-UANL: FiberEater - Molecular Docking</strong></h1>"
   ]
  },
  {
   "cell_type": "markdown",
   "metadata": {},
   "source": [
    "In order to go beyond knowing how our system works by means of mathematical modeling, we decided to perform a **molecular docking**, which is a three-dimensional representation that can be adjusted as close as possible to reality of how the interaction between the enzymes chosen to work with the polyesters we decided to treat will take place. These interactions are presented as follows:\n",
    "- **PET - PETase**\n",
    "- **PET - MHETase**\n",
    "- **PTT - Cutinase**\n",
    "- **Nylon-6 - Nylon-6 Hydrolase**"
   ]
  },
  {
   "cell_type": "markdown",
   "metadata": {},
   "source": [
    "##### **Installation of Packages**\n",
    "Before the report is initialized, we must install the necessary packages that we can use for the generation of results, which are installed with the following line of code, which you must enter in the terminal of your IDE of your interest.\n",
    "```bash\n",
    "%pip install pandas tabulate --quiet\n",
    "```"
   ]
  },
  {
   "cell_type": "markdown",
   "metadata": {},
   "source": [
    "##### **Import of Packages**\n",
    "For the correct behavior of this report , we must perform the 'call'/import of the packages that are useful achieve 2 objectives:\n",
    "1. Generate DataFrames with results from the Molecula Docking process.\n",
    "2. Give a _fancy_ format to the tables that were generated from the Molecular Docking.\n",
    "\n",
    "For which, we need 2 packages: **Pandas (pd) & Tabulate.**\n",
    "\n",
    "```python\n",
    "import pandas as pd\n",
    "import tabulate import tabulate\n",
    "```"
   ]
  },
  {
   "cell_type": "code",
   "execution_count": 6,
   "metadata": {},
   "outputs": [],
   "source": [
    "import pandas as pd\n",
    "from tabulate import tabulate"
   ]
  },
  {
   "cell_type": "markdown",
   "metadata": {},
   "source": [
    "# **Molecular Docking Results**\n",
    "In general, three-dimensional representations of the interaction of the enzymes with their respective substrate (in this case, a polyester) were generated, to have a broader picture of how the real interaction between the two molecules is generated, in addition, a series of values reported in a table were obtained on interaction characteristics, such as how much Gibbs Free Energy is present and the mean square deviation between the protein-ligand interaction and when there is no restriction in the movement of the ligand during the interaction."
   ]
  },
  {
   "cell_type": "markdown",
   "metadata": {},
   "source": [
    "## **PET-PETase**\n",
    "Our first polyester to be treated will be **PET**, which is one of the *most widely used polyesters in the __world__*, found in plastic bottles, textiles of all kinds, machinery, advertising, etc. The enzyme with which this polyester will be degraded, is the enzyme PETase, which has the ability to degrade PET, this enzyme is produced naturally by _Ideonella sakaiensis_, is capable of breaking the chemical bonds of PET, decomposing it into its basic components: (ethylene terephthalate)n-1 and 4-[(2-hydroxyethoxy)carbonyl]benzoate. Its catalytic activity accelerates the natural PET decomposition process, which represents a **promising solution for plastic waste management.**"
   ]
  },
  {
   "cell_type": "markdown",
   "metadata": {},
   "source": [
    "### **3D Interaction**"
   ]
  },
  {
   "cell_type": "markdown",
   "metadata": {},
   "source": [
    "![PET-PETase](https://github.com/j-gorm/MathModel-FiberEater-2023-iDL-FCB-UANL/blob/main/Molecular%20Docking/Docking%20Images/MD_PET-PETase.jpeg?raw=true)\n",
    "\n",
    "**Interaction 1. _PET-PETase._** "
   ]
  },
  {
   "cell_type": "markdown",
   "metadata": {},
   "source": [
    "### **Tables with Parameters from the Interaction**"
   ]
  },
  {
   "cell_type": "code",
   "execution_count": 16,
   "metadata": {},
   "outputs": [
    {
     "name": "stdout",
     "output_type": "stream",
     "text": [
      "╒════╤═════╤═══════════════════╤═════════════╤═════════════╕\n",
      "│    │ S   │   Score (Kca/mol) │   RMSD l.b. │   RMSD u.b. │\n",
      "╞════╪═════╪═══════════════════╪═════════════╪═════════════╡\n",
      "│  0 │ V   │              -4.6 │       0     │       0     │\n",
      "├────┼─────┼───────────────────┼─────────────┼─────────────┤\n",
      "│  1 │ V   │              -4.6 │       2.168 │       7.17  │\n",
      "├────┼─────┼───────────────────┼─────────────┼─────────────┤\n",
      "│  2 │ V   │              -4.5 │       2.178 │       3.412 │\n",
      "├────┼─────┼───────────────────┼─────────────┼─────────────┤\n",
      "│  3 │ V   │              -4.5 │      16.809 │      18.232 │\n",
      "├────┼─────┼───────────────────┼─────────────┼─────────────┤\n",
      "│  4 │ V   │              -4.3 │       4.211 │       7.276 │\n",
      "├────┼─────┼───────────────────┼─────────────┼─────────────┤\n",
      "│  5 │ V   │              -4.3 │       9.597 │      11.027 │\n",
      "├────┼─────┼───────────────────┼─────────────┼─────────────┤\n",
      "│  6 │ V   │              -4.2 │      20.23  │      23.879 │\n",
      "├────┼─────┼───────────────────┼─────────────┼─────────────┤\n",
      "│  7 │ V   │              -4.2 │       3.009 │       6.359 │\n",
      "├────┼─────┼───────────────────┼─────────────┼─────────────┤\n",
      "│  8 │ V   │              -4.1 │      16.482 │      18.594 │\n",
      "├────┼─────┼───────────────────┼─────────────┼─────────────┤\n",
      "│  9 │ V   │              -4   │       2.009 │       5.974 │\n",
      "╘════╧═════╧═══════════════════╧═════════════╧═════════════╛\n"
     ]
    }
   ],
   "source": [
    "petdf = pd.read_csv(\"https://raw.githubusercontent.com/j-gorm/MathModel-FiberEater-2023-iDL-FCB-UANL/main/Molecular%20Docking/MD%20Data%20(CSV)/MD_PET-PETase_Params.csv\")\n",
    "print(tabulate(petdf, headers='keys', tablefmt='fancy_grid'))"
   ]
  },
  {
   "cell_type": "markdown",
   "metadata": {},
   "source": [
    "**Table 1.** Parameters retrieved from the Molecular Interaction of PET with PETase."
   ]
  },
  {
   "cell_type": "markdown",
   "metadata": {},
   "source": [
    "## **PET-MHETase**\n",
    "It is a protein that has the ability to break down **polyethylene terephthalate (PET)**, a type of plastic widely used in packaging and bottles. This enzyme was discovered in bacteria, such as _Ideonella sakaiensis_, that have evolved to use PET as a source of carbon and energy. It acts on the polymer chains of PET, breaking them into smaller fragments, specifically attacking the ester chemical bonds present in PET, releasing terephthalate and ethylene glycol as end products, which can be reused by the **bacteria** for their growth and metabolism or for *biotechnological purposes.*"
   ]
  },
  {
   "cell_type": "markdown",
   "metadata": {},
   "source": [
    "### **3D Interaction**"
   ]
  },
  {
   "cell_type": "markdown",
   "metadata": {},
   "source": [
    "![PET-MHETase](https://github.com/j-gorm/MathModel-FiberEater-2023-iDL-FCB-UANL/blob/main/Molecular%20Docking/Docking%20Images/MD_PET-MHETase.jpeg?raw=true)\n",
    "\n",
    "**Interaction 2. _PET-MHETase._** "
   ]
  },
  {
   "cell_type": "markdown",
   "metadata": {},
   "source": [
    "### **Tables with Parameters from the Interaction**"
   ]
  },
  {
   "cell_type": "code",
   "execution_count": 17,
   "metadata": {},
   "outputs": [
    {
     "name": "stdout",
     "output_type": "stream",
     "text": [
      "╒════╤═════╤═══════════════════╤═════════════╤═════════════╕\n",
      "│    │ S   │   Score (Kca/mol) │   RMSD l.b. │   RMSD u.b. │\n",
      "╞════╪═════╪═══════════════════╪═════════════╪═════════════╡\n",
      "│  0 │ V   │              -5.1 │       0     │       0     │\n",
      "├────┼─────┼───────────────────┼─────────────┼─────────────┤\n",
      "│  1 │ V   │              -4.9 │       1.494 │       2.149 │\n",
      "├────┼─────┼───────────────────┼─────────────┼─────────────┤\n",
      "│  2 │ V   │              -4.7 │       1.083 │       1.922 │\n",
      "├────┼─────┼───────────────────┼─────────────┼─────────────┤\n",
      "│  3 │ V   │              -4.5 │       1.353 │       6.231 │\n",
      "├────┼─────┼───────────────────┼─────────────┼─────────────┤\n",
      "│  4 │ V   │              -4.5 │       2.312 │       7.024 │\n",
      "├────┼─────┼───────────────────┼─────────────┼─────────────┤\n",
      "│  5 │ V   │              -4.3 │       1.928 │       7.125 │\n",
      "├────┼─────┼───────────────────┼─────────────┼─────────────┤\n",
      "│  6 │ V   │              -4.1 │       2.958 │       4.854 │\n",
      "├────┼─────┼───────────────────┼─────────────┼─────────────┤\n",
      "│  7 │ V   │              -4   │       2.844 │       4.797 │\n",
      "├────┼─────┼───────────────────┼─────────────┼─────────────┤\n",
      "│  8 │ V   │              -3.9 │       7.085 │       8.628 │\n",
      "├────┼─────┼───────────────────┼─────────────┼─────────────┤\n",
      "│  9 │ V   │              -3.9 │      13.173 │      16.891 │\n",
      "╘════╧═════╧═══════════════════╧═════════════╧═════════════╛\n"
     ]
    }
   ],
   "source": [
    "mhetdf = pd.read_csv(\"https://raw.githubusercontent.com/j-gorm/MathModel-FiberEater-2023-iDL-FCB-UANL/main/Molecular%20Docking/MD%20Data%20(CSV)/MD_PET-MHETase_Params.csv\")\n",
    "print(tabulate(mhetdf, headers='keys', tablefmt='fancy_grid'))"
   ]
  },
  {
   "cell_type": "markdown",
   "metadata": {},
   "source": [
    "**Table 2.** Parameters retrieved from the Molecular Interaction of PET with MHETase."
   ]
  },
  {
   "cell_type": "markdown",
   "metadata": {},
   "source": [
    "## **PTT-Cutinase**\n",
    "Cutinase is an enzyme capable of degrading the polymer **PTT (Polytrimethylene terephthalate)** by _hydrolyzing_ its bonds. This enzyme occurs naturally in the bacterium _Thermofida fusca_, which is known for its ability to degrade and utilize persistent **organic compounds.** It has a unique three-dimensional structure that allows it to specifically bind to the PTT polymer and break its chains, releasing smaller and more easily metabolized products, terephthalic acid (TFA) and ethylene glycol (EG).Its catalytic activity is mainly based on _hydrolytic action_, where water molecules are used to **break** the chemical bonds of the polymer. It is important to note that during the Molecular Docking procedure, two interactions were found, which will be reported below."
   ]
  },
  {
   "cell_type": "markdown",
   "metadata": {},
   "source": [
    "### **Interaction #1**"
   ]
  },
  {
   "cell_type": "markdown",
   "metadata": {},
   "source": [
    "#### **3D Interaction**"
   ]
  },
  {
   "cell_type": "markdown",
   "metadata": {},
   "source": [
    "![PTT-CutinaseAS1](https://github.com/j-gorm/MathModel-FiberEater-2023-iDL-FCB-UANL/blob/main/Molecular%20Docking/Docking%20Images/MD_PTT-Cut1.jpeg?raw=true)\n",
    "\n",
    "**Interaction 3. _1st interaction from PTT-Cutinase._**"
   ]
  },
  {
   "cell_type": "markdown",
   "metadata": {},
   "source": [
    "#### **Tables with Parameters from the Interaction**"
   ]
  },
  {
   "cell_type": "code",
   "execution_count": 18,
   "metadata": {},
   "outputs": [
    {
     "name": "stdout",
     "output_type": "stream",
     "text": [
      "╒════╤═════╤═══════════════════╤═════════════╤═════════════╕\n",
      "│    │ S   │   Score (Kca/mol) │   RMSD l.b. │   RMSD u.b. │\n",
      "╞════╪═════╪═══════════════════╪═════════════╪═════════════╡\n",
      "│  0 │ V   │              -4.4 │       0     │       0     │\n",
      "├────┼─────┼───────────────────┼─────────────┼─────────────┤\n",
      "│  1 │ V   │              -4.3 │       3.485 │       7.079 │\n",
      "├────┼─────┼───────────────────┼─────────────┼─────────────┤\n",
      "│  2 │ V   │              -4.2 │       2.273 │       3.15  │\n",
      "├────┼─────┼───────────────────┼─────────────┼─────────────┤\n",
      "│  3 │ V   │              -4.2 │      18.378 │      21.908 │\n",
      "├────┼─────┼───────────────────┼─────────────┼─────────────┤\n",
      "│  4 │ V   │              -4.2 │       3.511 │       7.25  │\n",
      "├────┼─────┼───────────────────┼─────────────┼─────────────┤\n",
      "│  5 │ V   │              -4.2 │      17.77  │      20.001 │\n",
      "├────┼─────┼───────────────────┼─────────────┼─────────────┤\n",
      "│  6 │ V   │              -4.1 │       4.903 │       7.471 │\n",
      "├────┼─────┼───────────────────┼─────────────┼─────────────┤\n",
      "│  7 │ V   │              -4.1 │       1.606 │       2.085 │\n",
      "├────┼─────┼───────────────────┼─────────────┼─────────────┤\n",
      "│  8 │ V   │              -4   │      18.261 │      19.567 │\n",
      "├────┼─────┼───────────────────┼─────────────┼─────────────┤\n",
      "│  9 │ V   │              -4   │       2.695 │       6.932 │\n",
      "╘════╧═════╧═══════════════════╧═════════════╧═════════════╛\n"
     ]
    }
   ],
   "source": [
    "cuts1df = pd.read_csv(\"https://raw.githubusercontent.com/j-gorm/MathModel-FiberEater-2023-iDL-FCB-UANL/main/Molecular%20Docking/MD%20Data%20(CSV)/MD_PTT-Cutinase_Site1Params.csv\")\n",
    "print(tabulate(cuts1df, headers='keys', tablefmt='fancy_grid'))"
   ]
  },
  {
   "cell_type": "markdown",
   "metadata": {},
   "source": [
    "**Table 3.** Parameters retrieved from the 1st Active Site from the Molecular Interaction of PTT with Cutinase."
   ]
  },
  {
   "cell_type": "markdown",
   "metadata": {},
   "source": [
    "### **Interaction #2**"
   ]
  },
  {
   "cell_type": "markdown",
   "metadata": {},
   "source": [
    "#### **3D Interaction**"
   ]
  },
  {
   "cell_type": "markdown",
   "metadata": {},
   "source": [
    "![PTT-CutinaseAS2](https://github.com/j-gorm/MathModel-FiberEater-2023-iDL-FCB-UANL/blob/main/Molecular%20Docking/Docking%20Images/MD_PTT-Cut2.jpeg?raw=true)\n",
    "\n",
    "**Interaction 4. _2nd Interaction from PTT-Cutinase._**"
   ]
  },
  {
   "cell_type": "markdown",
   "metadata": {},
   "source": [
    "#### **Tables with Parameters from the Interaction**"
   ]
  },
  {
   "cell_type": "code",
   "execution_count": 19,
   "metadata": {},
   "outputs": [
    {
     "name": "stdout",
     "output_type": "stream",
     "text": [
      "╒════╤═════╤═══════════════════╤═════════════╤═════════════╕\n",
      "│    │ S   │   Score (Kca/mol) │   RMSD l.b. │   RMSD u.b. │\n",
      "╞════╪═════╪═══════════════════╪═════════════╪═════════════╡\n",
      "│  0 │ V   │              -5.5 │       0     │       0     │\n",
      "├────┼─────┼───────────────────┼─────────────┼─────────────┤\n",
      "│  1 │ V   │              -5.2 │       1.596 │       5.698 │\n",
      "├────┼─────┼───────────────────┼─────────────┼─────────────┤\n",
      "│  2 │ V   │              -4.9 │       2.068 │       5.893 │\n",
      "├────┼─────┼───────────────────┼─────────────┼─────────────┤\n",
      "│  3 │ V   │              -4.9 │       1.471 │       6.297 │\n",
      "├────┼─────┼───────────────────┼─────────────┼─────────────┤\n",
      "│  4 │ V   │              -4.4 │      18.461 │      20.872 │\n",
      "├────┼─────┼───────────────────┼─────────────┼─────────────┤\n",
      "│  5 │ V   │              -4.4 │      19.582 │      21.58  │\n",
      "├────┼─────┼───────────────────┼─────────────┼─────────────┤\n",
      "│  6 │ V   │              -4.3 │       2.568 │       6.011 │\n",
      "├────┼─────┼───────────────────┼─────────────┼─────────────┤\n",
      "│  7 │ V   │              -4.3 │      25.698 │      26.947 │\n",
      "├────┼─────┼───────────────────┼─────────────┼─────────────┤\n",
      "│  8 │ V   │              -4.3 │       1.702 │       2.64  │\n",
      "├────┼─────┼───────────────────┼─────────────┼─────────────┤\n",
      "│  9 │ V   │              -4.1 │      12.129 │      14.64  │\n",
      "╘════╧═════╧═══════════════════╧═════════════╧═════════════╛\n"
     ]
    }
   ],
   "source": [
    "cuts2df = pd.read_csv(\"https://raw.githubusercontent.com/j-gorm/MathModel-FiberEater-2023-iDL-FCB-UANL/main/Molecular%20Docking/MD%20Data%20(CSV)/MD_PTT-Cutinase_Site2Params.csv\")\n",
    "print(tabulate(cuts2df, headers='keys', tablefmt='fancy_grid'))"
   ]
  },
  {
   "cell_type": "markdown",
   "metadata": {},
   "source": [
    "**Table 4.** Parameters retrieved from the 2nd Active Site from the Molecular Interaction of PTT with Cutinase."
   ]
  },
  {
   "cell_type": "markdown",
   "metadata": {},
   "source": [
    "## **Nylon-6 - Nylon-6 Hydrolase**\n",
    "**Nylon-6 hydrolase** is an enzyme that has the ability to degrade **Nylon-6**, a _synthetic polymer_ widely used in the **textile and packaging industries.** This enzyme catalyzes the _hydrolysis_ of the **amide bond** of **nylon-6**, breaking the polymer chains into smaller units. The products of this hydrolysis reaction are mainly **caprolactam monomers**, which is the _same_ monomer used in the synthesis of nylon-6; these monomers can be subsequently used for the production of **new materials** or **recycled** for reuse in other industrial processes; in addition, the degradation of nylon-6 by this enzyme also produces secondary compounds, including **carboxylic acids, amines, and linear and cyclic oligomers.**"
   ]
  },
  {
   "cell_type": "markdown",
   "metadata": {},
   "source": [
    "### **3D Interaction**"
   ]
  },
  {
   "cell_type": "markdown",
   "metadata": {},
   "source": [
    "![Nyl6-Nyl6Hydro](https://github.com/j-gorm/MathModel-FiberEater-2023-iDL-FCB-UANL/blob/main/Molecular%20Docking/Docking%20Images/MD_Nyl6-Nyl6Hydro.jpeg?raw=true)\n",
    "\n",
    "**Interaction 5. _Nylon-6 - Nylon-6 Hydrolase._**"
   ]
  },
  {
   "cell_type": "markdown",
   "metadata": {},
   "source": [
    "### **Tables with Parameters from the Interaction**"
   ]
  },
  {
   "cell_type": "code",
   "execution_count": 20,
   "metadata": {},
   "outputs": [
    {
     "name": "stdout",
     "output_type": "stream",
     "text": [
      "╒════╤═════╤═══════════════════╤═════════════╤═════════════╕\n",
      "│    │ S   │   Score (Kca/mol) │   RMSD l.b. │   RMSD u.b. │\n",
      "╞════╪═════╪═══════════════════╪═════════════╪═════════════╡\n",
      "│  0 │ V   │              -4.1 │       0     │       0     │\n",
      "├────┼─────┼───────────────────┼─────────────┼─────────────┤\n",
      "│  1 │ V   │              -4.1 │       0.168 │       5.745 │\n",
      "├────┼─────┼───────────────────┼─────────────┼─────────────┤\n",
      "│  2 │ V   │              -3.9 │       3.51  │       5.17  │\n",
      "├────┼─────┼───────────────────┼─────────────┼─────────────┤\n",
      "│  3 │ V   │              -3.8 │       3.493 │       6.339 │\n",
      "├────┼─────┼───────────────────┼─────────────┼─────────────┤\n",
      "│  4 │ V   │              -3.8 │       1.543 │       6.047 │\n",
      "├────┼─────┼───────────────────┼─────────────┼─────────────┤\n",
      "│  5 │ V   │              -3.8 │       9.914 │      11.553 │\n",
      "├────┼─────┼───────────────────┼─────────────┼─────────────┤\n",
      "│  6 │ V   │              -3.8 │       2.486 │       3.816 │\n",
      "├────┼─────┼───────────────────┼─────────────┼─────────────┤\n",
      "│  7 │ V   │              -3.7 │       6.063 │       6.977 │\n",
      "├────┼─────┼───────────────────┼─────────────┼─────────────┤\n",
      "│  8 │ V   │              -3.6 │       4.042 │       6.614 │\n",
      "├────┼─────┼───────────────────┼─────────────┼─────────────┤\n",
      "│  9 │ V   │              -3.5 │       2.083 │       2.907 │\n",
      "╘════╧═════╧═══════════════════╧═════════════╧═════════════╛\n"
     ]
    }
   ],
   "source": [
    "nyldf = pd.read_csv(\"https://raw.githubusercontent.com/j-gorm/MathModel-FiberEater-2023-iDL-FCB-UANL/main/Molecular%20Docking/MD%20Data%20(CSV)/MD_Nylon6-Nylon6Hidrolase_Params.csv\")\n",
    "print(tabulate(nyldf, headers='keys', tablefmt='fancy_grid'))"
   ]
  },
  {
   "cell_type": "markdown",
   "metadata": {},
   "source": [
    "**Table 5.** Parameters retrieved from the Molecular Interaction of Nylon-6 with Nylon-6 Hydrolase."
   ]
  },
  {
   "cell_type": "markdown",
   "metadata": {},
   "source": [
    "**If you find it useful, you can view the raw code [here](https://github.com/j-gorm/MathModel-FiberEater-2023-iDL-FCB-UANL/blob/main/Molecular%20Docking/MD_Report.ipynb)!**"
   ]
  }
 ],
 "metadata": {
  "kernelspec": {
   "display_name": "Python 3",
   "language": "python",
   "name": "python3"
  },
  "language_info": {
   "codemirror_mode": {
    "name": "ipython",
    "version": 3
   },
   "file_extension": ".py",
   "mimetype": "text/x-python",
   "name": "python",
   "nbconvert_exporter": "python",
   "pygments_lexer": "ipython3",
   "version": "3.11.5"
  }
 },
 "nbformat": 4,
 "nbformat_minor": 2
}
