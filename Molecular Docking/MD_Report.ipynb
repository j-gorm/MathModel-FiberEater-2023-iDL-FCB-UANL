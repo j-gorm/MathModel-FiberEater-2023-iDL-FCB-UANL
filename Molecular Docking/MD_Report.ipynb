{
 "cells": [
  {
   "cell_type": "markdown",
   "metadata": {},
   "source": [
    "<h1 align='center'><strong>iGEM FCB-UANL: FiberEater - Molecular Docking</strong></h1>"
   ]
  },
  {
   "cell_type": "code",
   "execution_count": null,
   "metadata": {},
   "outputs": [],
   "source": [
    "%pip install jupysql duckdb-engine --quiet"
   ]
  },
  {
   "cell_type": "markdown",
   "metadata": {},
   "source": [
    "<p align=\"center\">\n",
    "  <img src=\"https://raw.githubusercontent.com/j-gorm/MathModel-FiberEater-2023-iDL-FCB-UANL/main/Molecular%20Docking/Avogadro%20Logo.jpeg\" hspace=\"50\"/>\n",
    "  <img src=\"https://raw.githubusercontent.com/j-gorm/MathModel-FiberEater-2023-iDL-FCB-UANL/main/Molecular%20Docking/Chimera%20Logo.jpeg\" hspace=\"50\"/>\n",
    "</p>"
   ]
  },
  {
   "cell_type": "markdown",
   "metadata": {},
   "source": [
    "<div style='text-align: center;'>\n",
    "  <p><strong>Figures 1 and 2.</strong> Programs used to perform <em>Molecular Docking.</em> <strong>Avogadro 1.2.015</strong> was used for to design ligands, such as PTT, since there is no 3D information about it, and to optimize existing ligands, <strong>UCSF Chimera 1.17.1</strong> was used for to use mathematical algorithms, such as the Lamarckian algorithm, which allows us to add Gasteiger Charges to predict the Gibbs Free Energy to be released by the system, in case of protein-ligand affinity.<p>\n",
    "</div>"
   ]
  },
  {
   "cell_type": "code",
   "execution_count": 1,
   "metadata": {},
   "outputs": [],
   "source": [
    "def dbcreate(url, archive):\n",
    "    %load_ext sql\n",
    "    %sql duckdb://\n",
    "    from urllib.request import urlretrieve\n",
    "\n",
    "    _ = urlretrieve(url, archive)"
   ]
  },
  {
   "cell_type": "code",
   "execution_count": null,
   "metadata": {},
   "outputs": [],
   "source": [
    "dbcreate(\"https://raw.githubusercontent.com/j-gorm/MathModel-FiberEater-2023-iDL-FCB-UANL/main/Molecular%20Docking/MD_PET-PETase_Params.csv\",\n",
    "         \"MD_PET-PETase_Params.csv\" )\n",
    "dbcreate(\"https://raw.githubusercontent.com/j-gorm/MathModel-FiberEater-2023-iDL-FCB-UANL/main/Molecular%20Docking/MD_PET-MHETase_Params.csv\",\n",
    "         \"MD_PET-MHETase_Params.csv\" )\n",
    "dbcreate(\"https://raw.githubusercontent.com/j-gorm/MathModel-FiberEater-2023-iDL-FCB-UANL/main/Molecular%20Docking/MD_PTT-Cutinase_Params.csv\",\n",
    "         \"MD_PTT-Cutinase_Params.csv\" )\n",
    "dbcreate(\"https://raw.githubusercontent.com/j-gorm/MathModel-FiberEater-2023-iDL-FCB-UANL/main/Molecular%20Docking/MD_Nylon-6-Nylon-6%2520Hidrolase_Params.csv\",\n",
    "         \"MD_Nylon-6-Nylon-6%2520Hidrolase_Params.csv\" )"
   ]
  },
  {
   "cell_type": "code",
   "execution_count": null,
   "metadata": {},
   "outputs": [],
   "source": [
    "%%sql\n",
    "CREATE TABLE mol_docking_PETase AS SELECT * FROM \"MD_PET-PETase_Params.csv\""
   ]
  },
  {
   "cell_type": "code",
   "execution_count": null,
   "metadata": {},
   "outputs": [],
   "source": [
    "%sqlcmd explore --table mol_docking_PETase"
   ]
  },
  {
   "cell_type": "code",
   "execution_count": null,
   "metadata": {},
   "outputs": [],
   "source": [
    "%%sql\n",
    "CREATE TABLE mol_docking_MHETase AS SELECT * FROM \"MD_PET-MHETase_Params.csv\""
   ]
  },
  {
   "cell_type": "code",
   "execution_count": null,
   "metadata": {},
   "outputs": [],
   "source": [
    "%sqlcmd explore --table mol_docking_MHETase"
   ]
  },
  {
   "cell_type": "code",
   "execution_count": null,
   "metadata": {},
   "outputs": [],
   "source": [
    "%%sql\n",
    "CREATE TABLE mol_docking_Cutinase AS SELECT * FROM \"MD_PTT-Cutinase_Params.csv\""
   ]
  },
  {
   "cell_type": "code",
   "execution_count": null,
   "metadata": {},
   "outputs": [],
   "source": [
    "%sqlcmd explore --table mol_docking_Cutinase"
   ]
  },
  {
   "cell_type": "code",
   "execution_count": null,
   "metadata": {},
   "outputs": [],
   "source": [
    "%%sql\n",
    "CREATE TABLE mol_docking_Nylon AS SELECT * FROM \"MD_Nylon-6-Nylon-6%20Hidrolase_Params.csv\""
   ]
  },
  {
   "cell_type": "code",
   "execution_count": null,
   "metadata": {},
   "outputs": [],
   "source": [
    "%sqlcmd explore --table mol_docking_Nylon"
   ]
  },
  {
   "cell_type": "code",
   "execution_count": 13,
   "metadata": {},
   "outputs": [
    {
     "data": {
      "text/html": [
       "<span style=\"None\">Running query in &#x27;duckdb://&#x27;</span>"
      ],
      "text/plain": [
       "Running query in 'duckdb://'"
      ]
     },
     "metadata": {},
     "output_type": "display_data"
    },
    {
     "name": "stdout",
     "output_type": "stream",
     "text": [
      "   S  Score (Kca/mol)  RMSD l.b.  RMSD u.b.\n",
      "0  V             -4.6      0.000      0.000\n",
      "1  V             -4.6      2.168      7.170\n",
      "2  V             -4.5      2.178      3.412\n",
      "3  V             -4.5     16.809     18.232\n",
      "4  V             -4.3      4.211      7.276\n",
      "5  V             -4.3      9.597     11.027\n",
      "6  V             -4.2     20.230     23.879\n",
      "7  V             -4.2      3.009      6.359\n",
      "8  V             -4.1     16.482     18.594\n",
      "9  V             -4.0      2.009      5.974\n"
     ]
    }
   ],
   "source": [
    "pet = %sql SELECT * FROM \"MD_PET-PETase_Params.csv\"\n",
    "df = pet.DataFrame()\n",
    "type(df)\n",
    "print(df)"
   ]
  },
  {
   "cell_type": "code",
   "execution_count": 14,
   "metadata": {},
   "outputs": [
    {
     "data": {
      "text/html": [
       "<span style=\"None\">Running query in &#x27;duckdb://&#x27;</span>"
      ],
      "text/plain": [
       "Running query in 'duckdb://'"
      ]
     },
     "metadata": {},
     "output_type": "display_data"
    },
    {
     "name": "stdout",
     "output_type": "stream",
     "text": [
      "   S  Score (Kca/mol)  RMSD l.b.  RMSD u.b.\n",
      "0  V             -5.1      0.000      0.000\n",
      "1  V             -4.9      1.494      2.149\n",
      "2  V             -4.7      1.083      1.922\n",
      "3  V             -4.5      1.353      6.231\n",
      "4  V             -4.5      2.312      7.024\n",
      "5  V             -4.3      1.928      7.125\n",
      "6  V             -4.1      2.958      4.854\n",
      "7  V             -4.0      2.844      4.797\n",
      "8  V             -3.9      7.085      8.628\n",
      "9  V             -3.9     13.173     16.891\n"
     ]
    }
   ],
   "source": [
    "mhet = %sql SELECT * FROM \"MD_PET-MHETase_Params.csv\"\n",
    "df = mhet.DataFrame()\n",
    "type(df)\n",
    "print(df)"
   ]
  },
  {
   "cell_type": "code",
   "execution_count": 15,
   "metadata": {},
   "outputs": [
    {
     "data": {
      "text/html": [
       "<span style=\"None\">Running query in &#x27;duckdb://&#x27;</span>"
      ],
      "text/plain": [
       "Running query in 'duckdb://'"
      ]
     },
     "metadata": {},
     "output_type": "display_data"
    },
    {
     "name": "stdout",
     "output_type": "stream",
     "text": [
      "   S  Score (Kca/mol)  RMSD l.b.  RMSD u.b.\n",
      "0  V             -4.4      0.000      0.000\n",
      "1  V             -4.3      3.485      7.079\n",
      "2  V             -4.2      2.273      3.150\n",
      "3  V             -4.2     18.378     21.908\n",
      "4  V             -4.2      3.511      7.250\n",
      "5  V             -4.2     17.770     20.001\n",
      "6  V             -4.1      4.903      7.471\n",
      "7  V             -4.1      1.606      2.085\n",
      "8  V             -4.0     18.261     19.567\n",
      "9  V             -4.0      2.695      6.932\n"
     ]
    }
   ],
   "source": [
    "cut = %sql SELECT * FROM \"MD_PTT-Cutinase_Params.csv\"\n",
    "df = cut.DataFrame()\n",
    "type(df)\n",
    "print(df)"
   ]
  },
  {
   "cell_type": "code",
   "execution_count": 16,
   "metadata": {},
   "outputs": [
    {
     "data": {
      "text/html": [
       "<span style=\"None\">Running query in &#x27;duckdb://&#x27;</span>"
      ],
      "text/plain": [
       "Running query in 'duckdb://'"
      ]
     },
     "metadata": {},
     "output_type": "display_data"
    },
    {
     "name": "stdout",
     "output_type": "stream",
     "text": [
      "   S  Score (Kca/mol)  RMSD l.b.  RMSD u.b.\n",
      "0  V             -5.5      0.000      0.000\n",
      "1  V             -5.2      1.596      5.698\n",
      "2  V             -4.9      2.068      5.893\n",
      "3  V             -4.9      1.471      6.297\n",
      "4  V             -4.4     18.461     20.872\n",
      "5  V             -4.4     19.582     21.580\n",
      "6  V             -4.3      2.568      6.011\n",
      "7  V             -4.3     25.698     26.947\n",
      "8  V             -4.3      1.702      2.640\n",
      "9  V             -4.1     12.129     14.640\n"
     ]
    }
   ],
   "source": [
    "nyl = %sql SELECT * FROM \"MD_Nylon-6-Nylon-6%20Hidrolase_Params.csv\"\n",
    "df = nyl.DataFrame()\n",
    "type(df)\n",
    "print(df)"
   ]
  }
 ],
 "metadata": {
  "kernelspec": {
   "display_name": "Python 3",
   "language": "python",
   "name": "python3"
  },
  "language_info": {
   "codemirror_mode": {
    "name": "ipython",
    "version": 3
   },
   "file_extension": ".py",
   "mimetype": "text/x-python",
   "name": "python",
   "nbconvert_exporter": "python",
   "pygments_lexer": "ipython3",
   "version": "3.11.5"
  }
 },
 "nbformat": 4,
 "nbformat_minor": 2
}
